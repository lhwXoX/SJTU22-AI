{
 "cells": [
  {
   "cell_type": "markdown",
   "metadata": {},
   "source": [
    "<h2>Define Functions</h2>"
   ]
  },
  {
   "cell_type": "code",
   "execution_count": null,
   "metadata": {},
   "outputs": [],
   "source": []
  },
  {
   "cell_type": "code",
   "execution_count": 49,
   "metadata": {},
   "outputs": [],
   "source": [
    "import evaluate\n",
    "import vad_utils\n",
    "import matplotlib.pyplot as plt\n",
    "import numpy as np\n",
    "import wave\n",
    "import os\n",
    "from sklearn.model_selection import train_test_split\n",
    "from sklearn.preprocessing import StandardScaler\n",
    "from sklearn.metrics import accuracy_score\n",
    "from sklearn.linear_model import LogisticRegression\n",
    "\n",
    "#计算短时过零率\n",
    "def compute_zero(signal):\n",
    "    zcr = 0\n",
    "    sign = np.sign(signal)\n",
    "    for i in range(len(sign)-1):\n",
    "        zcr += abs(sign[i]-sign[i+1])\n",
    "    zcr /= 2\n",
    "    return zcr\n",
    "\n",
    "#计算短时能量\n",
    "def compute_energy(signal):\n",
    "    energy = 0\n",
    "    for i in range(len(signal)):\n",
    "        energy += signal[i]*signal[i]\n",
    "    return energy\n",
    "\n",
    "#用于制作训练集\n",
    "def process_train(f, vad_label):\n",
    "    #读取音频信号f(.wav文件)的信息(帧数,按帧的信号序列,无语音特征),参考:https://blog.csdn.net/YAOHAIPI/article/details/102826051\n",
    "    res_label = vad_label #保存用提供函数得到的字典\n",
    "    params = f.getparams() #获取wav文件的参数\n",
    "    nchannels, sampwidth, framerate, nframes = params[:4] #赋值声道数，量化位数，采样频率，采样点数\n",
    "    wlen = int(0.032 * framerate) #一帧0.032s对应帧数\n",
    "    inc = int(0.010 * framerate) #帧移0.01s对应帧数\n",
    "    str_data = f.readframes(nframes) #指定需要读取的长度(全部)\n",
    "    wave_data = np.frombuffer(str_data, dtype=np.short) #转换为一维short类型的数组\n",
    "    wave_data = wave_data*1.0/(max(abs(wave_data))) #归一化\n",
    "    time = np.arange(0, wlen) * (1.0 / framerate) #计算取样时间\n",
    "    signal_length = len(wave_data) #信号总长度\n",
    "    nf = int(np.ceil((1.0*signal_length-wlen+inc)/inc)) #计算语音帧数\n",
    "    pad_length = int((nf-1)*inc+wlen) #所有帧加起来总的铺平后的长度\n",
    "    zeros = np.zeros((pad_length-signal_length,)) #不够的长度使用0填补\n",
    "    pad_signal = np.concatenate((wave_data,zeros)) #填补后的信号记为pad_signal\n",
    "    indices = np.tile(np.arange(0,wlen),(nf,1))+np.tile(np.arange(0,nf*inc,inc),(wlen,1)).T  #相当于对所有帧的时间点进行抽取，得到nf*nw长度的矩阵\n",
    "    indices=np.array(indices,dtype=np.int32) #将indices转化为矩阵\n",
    "    frames=pad_signal[indices] #得到帧信号\n",
    "\n",
    "    #初始化过零率和短时能量计算结果(只用到了短时能量)\n",
    "    zerores = []\n",
    "    energyres = []\n",
    "\n",
    "    #遍历每一帧，进行过零率和短时能量计算并将这帧得到的结果拼接到总结果上\n",
    "    for i in range(nf):\n",
    "        a = frames[i:i+1]\n",
    "        \n",
    "        windown=np.hanning(wlen)  #调用汉明窗\n",
    "        b=a[0]*windown\n",
    "        res_zero = compute_zero(b)\n",
    "        res_energy = compute_energy(b)\n",
    "        zerores.append(res_zero)\n",
    "        energyres.append(res_energy)\n",
    "\n",
    "    #补0使三个列表的长度一样，为nf\n",
    "    while len(res_label) < nf:\n",
    "        res_label.append(0)\n",
    "    while len(zerores) < nf:\n",
    "        zerores.append(0)\n",
    "    while len(energyres) < nf:\n",
    "        energyres.append(0)\n",
    "\n",
    "    return zerores, energyres, res_label\n",
    "\n",
    "#用于在test(作业要求)数据上做检测,使用了短时能量\n",
    "def process_test(f):\n",
    "    params = f.getparams()\n",
    "    nchannels, sampwidth, framerate, nframes = params[:4]\n",
    "    wlen = int(0.032 * framerate)\n",
    "    inc = int(0.010 * framerate)\n",
    "    str_data = f.readframes(nframes)\n",
    "    wave_data = np.frombuffer(str_data, dtype=np.short)\n",
    "    wave_data = wave_data*1.0/(max(abs(wave_data)))\n",
    "    time = np.arange(0, wlen) * (1.0 / framerate)\n",
    "    signal_length = len(wave_data)\n",
    "    nf = int(np.ceil((1.0*signal_length-wlen+inc)/inc))\n",
    "    pad_length = int((nf-1)*inc+wlen) \n",
    "    zeros = np.zeros((pad_length-signal_length,)) \n",
    "    pad_signal = np.concatenate((wave_data,zeros))\n",
    "    indices = np.tile(np.arange(0,wlen),(nf,1))+np.tile(np.arange(0,nf*inc,inc),(wlen,1)).T\n",
    "    indices = np.array(indices,dtype=np.int32)\n",
    "    frames = pad_signal[indices]\n",
    "    energyres = []\n",
    "\n",
    "    for i in range(nf):\n",
    "        a = frames[i:i+1]\n",
    "        windown=np.hanning(wlen)  #调用汉明窗\n",
    "        b=a[0]*windown\n",
    "        res_energy = compute_energy(b)\n",
    "        energyres.append(res_energy)\n",
    "\n",
    "    while len(energyres) < nf:\n",
    "        energyres.append(0)\n",
    "\n",
    "    res = vad_utils.prediction_to_vad_label(energyres, 0.032, 0.010, 0.06) #以0.06为阈值做分类\n",
    "    energyres = vad_utils.parse_vad_label(res,0.032,0.010) #得到分类的标签结果\n",
    "    silence = 0\n",
    "    flag = 0\n",
    "    start = 1\n",
    "    for i in range(len(energyres)):\n",
    "        if energyres[i] == 1 & start == 1:\n",
    "            start = 0\n",
    "        elif energyres[i] == 0 & start == 0:\n",
    "            flag = 1\n",
    "            silence += 1\n",
    "        elif energyres[i] == 1 & flag == 1:\n",
    "            flag = 0\n",
    "            if silence <= 2:\n",
    "                for j in range(silence):\n",
    "                    energyres[i-j-1] = 1\n",
    "            silence = 0\n",
    "\n",
    "    res = vad_utils.prediction_to_vad_label(energyres, 0.032, 0.010, 0.06) #以0.06为阈值做分类\n",
    "    return res #返回string变量(例如:\"0.02,0.1 0.15,0.17, 0.29,0.40\")"
   ]
  },
  {
   "cell_type": "markdown",
   "metadata": {},
   "source": [
    "<h2>Make Train Set</h2>"
   ]
  },
  {
   "cell_type": "code",
   "execution_count": 45,
   "metadata": {},
   "outputs": [],
   "source": [
    "#制作训练集(整合所有语音,针对线性分类器方法，但最终因准确率低未采用)\n",
    "vad_label = vad_utils.read_label_from_file(\"./data/dev_label.txt\") #读取字典\n",
    "train_all_zero = []\n",
    "train_all_energy = []\n",
    "train_all_label = []\n",
    "for key in vad_label:\n",
    "    f = wave.open(r\"./wavs/dev/{name}.wav\".format(name = key), \"rb\")\n",
    "    zerores, res_energy, output_vad_label = process_train(f,vad_label[key])\n",
    "    train_all_zero.extend(zerores)\n",
    "    train_all_energy.extend(res_energy)\n",
    "    train_all_label.extend(output_vad_label) #将每个语音文件的过零率、短时能量和标签list合并成3个大lists"
   ]
  },
  {
   "cell_type": "markdown",
   "metadata": {},
   "source": [
    "<h2>Energy to classify on Train Set</h2>"
   ]
  },
  {
   "cell_type": "code",
   "execution_count": 47,
   "metadata": {},
   "outputs": [
    {
     "name": "stdout",
     "output_type": "stream",
     "text": [
      "Misclassified samples:56724\n",
      "Accuracy: 0.92\n",
      "(0.9172077294042104, 0.08613758643843142)\n"
     ]
    }
   ],
   "source": [
    "energyres_text = vad_utils.prediction_to_vad_label(train_all_energy, 0.032, 0.010, 0.06)\n",
    "energyres_frame = vad_utils.parse_vad_label(energyres_text,0.032,0.010) #得到分类的标签结果\n",
    "while len(energyres_frame) < len(train_all_energy): #补零\n",
    "    energyres_frame.append(0)\n",
    "\n",
    "#去除短时静音\n",
    "silence = 0\n",
    "flag = 0\n",
    "start = 1\n",
    "for i in range(len(energyres_frame)):\n",
    "    if energyres_frame[i] == 1 & start == 1:\n",
    "        start = 0\n",
    "    elif energyres_frame[i] == 0 & start == 0:\n",
    "        flag = 1\n",
    "        silence += 1\n",
    "    elif energyres_frame[i] == 1 & flag == 1:\n",
    "        flag = 0\n",
    "        if silence <= 11:\n",
    "            for j in range(silence):\n",
    "                energyres_frame[i-j-1] = 1\n",
    "        silence = 0\n",
    "\n",
    "train_all_label_arr = np.array(train_all_label)\n",
    "energyres_frame_arr = np.array(energyres_frame) #转化为numpy数组(多余)\n",
    "print('Misclassified samples:%d' % (train_all_label_arr != energyres_frame_arr).sum()) #计算错分的样本\n",
    "print('Accuracy: %.2f' % accuracy_score(train_all_label_arr, energyres_frame_arr)) #计算准确率\n",
    "print(evaluate.get_metrics(energyres_frame, train_all_label)) #用提供的evaluate文件计算auc和eer"
   ]
  },
  {
   "cell_type": "markdown",
   "metadata": {},
   "source": [
    "<h2>Draw Graph</h2>"
   ]
  },
  {
   "cell_type": "code",
   "execution_count": 51,
   "metadata": {},
   "outputs": [
    {
     "data": {
      "image/png": "[encoded data removed]",
      "text/plain": [
       "<Figure size 640x480 with 1 Axes>"
      ]
     },
     "metadata": {},
     "output_type": "display_data"
    }
   ],
   "source": [
    "#随threshould变化的图\n",
    "x = np.linspace(0,0.1,11) #横轴\n",
    "y_acc = []\n",
    "y_auc = []\n",
    "y_eer = []\n",
    "for threshold_energy in range(11):\n",
    "    threshold_energy *= 0.01\n",
    "    energyres_text = vad_utils.prediction_to_vad_label(train_all_energy, 0.032, 0.010, threshold=threshold_energy)\n",
    "    energyres_frame = vad_utils.parse_vad_label(energyres_text,0.032,0.010) #得到分类的标签结果\n",
    "    while len(energyres_frame) < len(train_all_energy): #补零\n",
    "        energyres_frame.append(0)\n",
    "    #去除短时静音\n",
    "    silence = 0\n",
    "    flag = 0\n",
    "    start = 1\n",
    "    for i in range(len(energyres_frame)):\n",
    "        if energyres_frame[i] == 1 & start == 1:\n",
    "            start = 0\n",
    "        elif energyres_frame[i] == 0 & start == 0:\n",
    "            flag = 1\n",
    "            silence += 1\n",
    "        elif energyres_frame[i] == 1 & flag == 1:\n",
    "            flag = 0\n",
    "            if silence <= 11:\n",
    "                for j in range(silence):\n",
    "                    energyres_frame[i-j-1] = 1\n",
    "            silence = 0\n",
    "\n",
    "    auc, eer = evaluate.get_metrics(energyres_frame, train_all_label)\n",
    "    y_acc.append(accuracy_score(train_all_label, energyres_frame))\n",
    "    y_auc.append(auc)\n",
    "    y_eer.append(eer)\n",
    "plt.plot(x,y_acc)\n",
    "plt.plot(x,y_auc)\n",
    "plt.plot(x,y_eer)\n",
    "plt.xlabel('threshold')\n",
    "plt.legend(['acc','auc','eer'],loc='upper left')\n",
    "plt.show() #画图\n"
   ]
  },
  {
   "cell_type": "code",
   "execution_count": 52,
   "metadata": {},
   "outputs": [
    {
     "data": {
      "image/png": "[encoded data removed]",
      "text/plain": [
       "<Figure size 640x480 with 1 Axes>"
      ]
     },
     "metadata": {},
     "output_type": "display_data"
    }
   ],
   "source": [
    "#随短时静音判断帧数变化图\n",
    "x = np.linspace(0,20,21)\n",
    "y_acc = []\n",
    "y_auc = []\n",
    "y_eer = []\n",
    "for append_0 in range(21):\n",
    "    energyres_text = vad_utils.prediction_to_vad_label(train_all_energy, 0.032, 0.010, 0.06)\n",
    "    energyres_frame = vad_utils.parse_vad_label(energyres_text,0.032,0.010) #得到分类的标签结果\n",
    "    while len(energyres_frame) < len(train_all_energy): #补零\n",
    "        energyres_frame.append(0)\n",
    "    #去除短时静音\n",
    "    silence = 0\n",
    "    flag = 0\n",
    "    start = 1\n",
    "    for i in range(len(energyres_frame)):\n",
    "        if energyres_frame[i] == 1 & start == 1:\n",
    "            start = 0\n",
    "        elif energyres_frame[i] == 0 & start == 0:\n",
    "            flag = 1\n",
    "            silence += 1\n",
    "        elif energyres_frame[i] == 1 & flag == 1:\n",
    "            flag = 0\n",
    "            if silence <= append_0:\n",
    "                for j in range(silence):\n",
    "                    energyres_frame[i-j-1] = 1\n",
    "            silence = 0\n",
    "\n",
    "    auc, eer = evaluate.get_metrics(energyres_frame, train_all_label)\n",
    "    y_acc.append(accuracy_score(train_all_label, energyres_frame))\n",
    "    y_auc.append(auc)\n",
    "    y_eer.append(eer)\n",
    "plt.plot(x,y_acc)\n",
    "plt.plot(x,y_auc)\n",
    "plt.plot(x,y_eer)\n",
    "plt.xlabel('threshold')\n",
    "plt.legend(['acc','auc','eer'],loc='upper left')\n",
    "plt.show()\n"
   ]
  },
  {
   "cell_type": "markdown",
   "metadata": {},
   "source": [
    "<h2>Zero Rate To Classify</h2>"
   ]
  },
  {
   "cell_type": "code",
   "execution_count": 4,
   "metadata": {},
   "outputs": [
    {
     "name": "stdout",
     "output_type": "stream",
     "text": [
      "Misclassified samples:281142\n",
      "Accuracy: 0.60\n",
      "(0.5854972185234455, 0.4376971842653714)\n"
     ]
    }
   ],
   "source": [
    "zerores_text = vad_utils.prediction_to_vad_label_less(train_all_zero, 0.032, 0.010, 50)\n",
    "zerores_frame = vad_utils.parse_vad_label(zerores_text,0.032,0.010)\n",
    "while len(zerores_frame) < len(train_all_zero):\n",
    "    zerores_frame.append(0)\n",
    "train_all_label_arr = np.array(train_all_label)\n",
    "zerores_frame_arr = np.array(zerores_frame)\n",
    "print('Misclassified samples:%d' % (train_all_label_arr != zerores_frame_arr).sum())\n",
    "print('Accuracy: %.2f' % accuracy_score(train_all_label_arr, zerores_frame_arr))\n",
    "print(evaluate.get_metrics(zerores_frame, train_all_label))"
   ]
  },
  {
   "cell_type": "markdown",
   "metadata": {},
   "source": [
    "<h2>Linear Classifier To Classify</h2>"
   ]
  },
  {
   "cell_type": "code",
   "execution_count": 5,
   "metadata": {},
   "outputs": [
    {
     "name": "stderr",
     "output_type": "stream",
     "text": [
      "e:\\download\\Anaconda\\envs\\pytorch_dl\\Lib\\site-packages\\sklearn\\utils\\_param_validation.py:591: FutureWarning: Passing an int for a boolean parameter is deprecated in version 1.2 and won't be supported anymore in version 1.4.\n",
      "  warnings.warn(\n"
     ]
    },
    {
     "name": "stdout",
     "output_type": "stream",
     "text": [
      "Misclassified samples:40841\n",
      "Accuracy: 0.81\n",
      "(0.818719880152379, 0.2008465263929022)\n"
     ]
    }
   ],
   "source": [
    "#利用sklearn库的逻辑回归线性分类\n",
    "train_all_label = np.array(train_all_label)\n",
    "train_input = np.vstack((train_all_zero, train_all_energy)).T #制作数据集\n",
    "X_train, X_test, y_train, y_test = train_test_split(train_input, train_all_label, test_size = 0.3, shuffle=1) #数据集划分\n",
    "sc = StandardScaler()\n",
    "sc.fit(X_train)\n",
    "X_train_std = sc.transform(X_train)\n",
    "X_test_std = sc.transform(X_test) #标准化\n",
    "ppn = LogisticRegression(penalty='l2',class_weight={0:0.7,1:0.3},max_iter=7000) #权重对结果影响很大\n",
    "ppn.fit(X_train_std, y_train)\n",
    "y_pred = ppn.predict(X_test_std)\n",
    "print('Misclassified samples:%d' % (y_test != y_pred).sum())\n",
    "print('Accuracy: %.2f' % accuracy_score(y_test, y_pred))\n",
    "print(evaluate.get_metrics(y_pred.tolist(), y_test.tolist()))"
   ]
  },
  {
   "cell_type": "markdown",
   "metadata": {},
   "source": [
    "<h2>Apply To Test Set</h2>"
   ]
  },
  {
   "cell_type": "code",
   "execution_count": 50,
   "metadata": {},
   "outputs": [],
   "source": [
    "f_res = open(\"./result3.txt\",\"w\") #写入结果的文件\n",
    "f_res.truncate(0) #清空文件\n",
    "paths = os.walk(r\"./wavs/test\") #得到路径\n",
    "for path, dir_lst, file_lst in paths:\n",
    "    for file_name in file_lst: #遍历测试集的音频\n",
    "        file_name = file_name.split(\".\")[0] #分离出文件名(不带后缀)\n",
    "        f = wave.open(r\"./wavs/test/{name}.wav\".format(name = file_name), \"rb\") #读取音频\n",
    "        res = process_test(f) #进行处理\n",
    "        f_res.write(\"{name} {result}\".format(name = file_name, result = res)+\"\\n\") #将结果写入result.txt(音频按名称已排序)\n",
    "f_res.close() #关闭文件"
   ]
  }
 ],
 "metadata": {
  "kernelspec": {
   "display_name": "pytorch_dl",
   "language": "python",
   "name": "python3"
  },
  "language_info": {
   "codemirror_mode": {
    "name": "ipython",
    "version": 3
   },
   "file_extension": ".py",
   "mimetype": "text/x-python",
   "name": "python",
   "nbconvert_exporter": "python",
   "pygments_lexer": "ipython3",
   "version": "3.12.2"
  }
 },
 "nbformat": 4,
 "nbformat_minor": 2
}
