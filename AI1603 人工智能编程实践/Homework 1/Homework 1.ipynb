{
 "cells": [
  {
   "attachments": {},
   "cell_type": "markdown",
   "metadata": {},
   "source": [
    "## 第一次编程小作业（10分）"
   ]
  },
  {
   "attachments": {},
   "cell_type": "markdown",
   "metadata": {},
   "source": [
    "综合练习1：从键盘读入一组字符串（字符串只包含大小写字母），字符串用空格分隔。由于这组字符串是人名，请把每个单词的首字母大写，其他字母小写。然后按照首字母的ASCII码的顺序降序输出。（3分）"
   ]
  },
  {
   "cell_type": "code",
   "execution_count": 1,
   "metadata": {},
   "outputs": [],
   "source": [
    "# 综合练习1\n",
    "strings = input()\n",
    "\n",
    "# TODO\n",
    "def convert_strings(strings):\n",
    "    str = strings.split(' ')\n",
    "    result = [i.capitalize() for i in str]\n",
    "    result = sorted(result, reverse = True)\n",
    "    return result\n",
    "\n",
    "print(convert_strings(strings))\n"
   ]
  },
  {
   "attachments": {},
   "cell_type": "markdown",
   "metadata": {},
   "source": [
    "综合练习2:设计一个函数，可用于自动判断二进制(开头为0b)、八进制(开头为0o)、十六进制（开头为0x）输入，并转换成十进制。可以使用内置函数实现（3分）。自定义的进制转换实现（1分）。"
   ]
  },
  {
   "cell_type": "code",
   "execution_count": null,
   "metadata": {},
   "outputs": [],
   "source": [
    "# 综合练习2\n",
    "\n",
    "# TODO\n",
    "#内置\n",
    "def convert_binary2_bulitin(num):\n",
    "    if num.startswith('0b'):\n",
    "        result = int(num, 2)\n",
    "    elif num.startswith('0o'):\n",
    "        result = int(num, 8)\n",
    "    elif num.startswith('0x'):\n",
    "        result = int(num, 16)\n",
    "    return result\n",
    "\n",
    "num = input()\n",
    "print(convert_binary2_bulitin(num))\n",
    "#自定义\n",
    "def b(num):\n",
    "    result = 0\n",
    "    power = 0\n",
    "    for i in reversed(num):\n",
    "        result += int(i) * (2 ** power)\n",
    "        power += 1\n",
    "    return result\n",
    "\n",
    "def o(num):\n",
    "    result = 0\n",
    "    power = 0\n",
    "    for i in reversed(num):\n",
    "        result += int(i) * (8 ** power)\n",
    "        power += 1\n",
    "    return result\n",
    "\n",
    "def h(num):\n",
    "    result = 0\n",
    "    power = 0\n",
    "    for i in reversed(num):\n",
    "        if i.isdigit():\n",
    "            result += int(i) * (16 ** power)\n",
    "        else:\n",
    "            result += (ord(i.upper()) - 55) * (16 ** power)\n",
    "        power += 1\n",
    "    return result\n",
    "\n",
    "def convert_binary2(num):\n",
    "    if num.startswith('0b'):\n",
    "        result = b(num[2:])\n",
    "    elif num.startswith('0o'):\n",
    "        result = o(num[2:])\n",
    "    elif num.startswith('0x'):\n",
    "        result = h(num[2:])\n",
    "    return result\n",
    "\n",
    "num = input()\n",
    "print(convert_binary2(num))\n",
    "'''\n",
    "Inputs: '0b111', '0xaaa',  '0o1237'\n",
    "Expected Outputs: 7, 2730, 671\n",
    "'''"
   ]
  },
  {
   "attachments": {},
   "cell_type": "markdown",
   "metadata": {},
   "source": [
    "综合练习3: 设计一个装饰器。要求作用在任何函数上时都可以得到这个函数的执行时间。装饰器的输出格式如下：“A executed in B ms”。其中A为被装饰函数的名字，B为时间。(3分)"
   ]
  },
  {
   "cell_type": "code",
   "execution_count": null,
   "metadata": {},
   "outputs": [],
   "source": [
    "# Hint: import time, functools before the implementation \n",
    "# Hint: for more information about decorator, refer to https://www.runoob.com/w3cnote/python-func-decorators.html\n",
    "import time\n",
    "\n",
    "def metric(fn):\n",
    "    # TODO\n",
    "    def execute_time(*args, **kwargs):\n",
    "        start = time.time()\n",
    "        result = fn(*args, **kwargs)\n",
    "        end = time.time()\n",
    "        Time = (end - start) * 1000\n",
    "        print(f\"{fn.__name__} executed in {Time:.2f} ms\")\n",
    "        return result\n",
    "    return execute_time\n",
    "\n",
    "@metric\n",
    "def test(x):\n",
    "    for _ in range(x):\n",
    "        continue\n",
    "\n",
    "test(100000)\n",
    "test(19000)\n",
    "\n",
    "\n",
    "'''\n",
    "Expected Outputs:\n",
    "test executed in 0.0071620941162109375 ms\n",
    "test executed in 0.0013530254364013672 ms\n",
    "'''"
   ]
  }
 ],
 "metadata": {
  "interpreter": {
   "hash": "188a7bb78ea0315797259986722ad766e657e792344202ca88a42542370c1dc1"
  },
  "kernelspec": {
   "display_name": "Python 3 (ipykernel)",
   "language": "python",
   "name": "python3"
  },
  "language_info": {
   "codemirror_mode": {
    "name": "ipython",
    "version": 3
   },
   "file_extension": ".py",
   "mimetype": "text/x-python",
   "name": "python",
   "nbconvert_exporter": "python",
   "pygments_lexer": "ipython3",
   "version": "3.11.4"
  }
 },
 "nbformat": 4,
 "nbformat_minor": 4
}
